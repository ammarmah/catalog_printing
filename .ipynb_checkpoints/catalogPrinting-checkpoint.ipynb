{
 "cells": [
  {
   "cell_type": "code",
   "execution_count": 61,
   "id": "49aadbd3-0f54-429f-8e48-cdd911b06ab1",
   "metadata": {},
   "outputs": [],
   "source": [
    "#Header to be adjusted according to the background used\n",
    "\n",
    "HEADER_HEIGHT = 250  # Header space in pixels\n",
    "BACKGROUND_IMAGE_PATH = \"saintvalentin.png\"  # Path to your A4 design"
   ]
  },
  {
   "cell_type": "code",
   "execution_count": 62,
   "id": "ea633a54-af9e-4271-9346-e2c41f93cff7",
   "metadata": {},
   "outputs": [],
   "source": [
    "import os\n",
    "import requests\n",
    "from PIL import Image, ImageDraw, ImageFont, ImageOps\n",
    "from oauth2client.service_account import ServiceAccountCredentials\n",
    "import gspread\n",
    "\n",
    "# Constants\n",
    "GRID_ROWS = 3\n",
    "GRID_COLS = 3\n",
    "PAGE_WIDTH, PAGE_HEIGHT = 1414, 2000  # A4 size at 300 DPI\n",
    "CELL_PADDING = 100\n",
    "GRID_WIDTH = PAGE_WIDTH // GRID_COLS\n",
    "GRID_HEIGHT = (PAGE_HEIGHT - HEADER_HEIGHT) // GRID_ROWS\n",
    "\n",
    "\n",
    "# Google Sheets Setup\n",
    "SCOPES = ['https://www.googleapis.com/auth/drive', 'https://www.googleapis.com/auth/spreadsheets']\n",
    "GOOGLE_SHEET_NAME = \"Catalogue client\"\n",
    "GOOGLE_CREDENTIALS_FILE = \"leo-omega-5ffcec1345ff.json\""
   ]
  },
  {
   "cell_type": "code",
   "execution_count": 63,
   "id": "f455aa64-7dfa-4dc5-b6dc-4679ca39d9ed",
   "metadata": {},
   "outputs": [],
   "source": [
    "def fetch_google_sheet_data(sheet_name):\n",
    "    credentials = ServiceAccountCredentials.from_json_keyfile_name(GOOGLE_CREDENTIALS_FILE, SCOPES)\n",
    "    client = gspread.authorize(credentials)\n",
    "    sheet = client.open(sheet_name).sheet1\n",
    "    return sheet.get_all_records()"
   ]
  },
  {
   "cell_type": "code",
   "execution_count": 64,
   "id": "87e8ee68-c25a-4af1-8504-8f9d416785c0",
   "metadata": {},
   "outputs": [],
   "source": [
    "def convert_to_direct_link(drive_link):\n",
    "    if \"drive.google.com\" in drive_link:\n",
    "        file_id = drive_link.split(\"/d/\")[1].split(\"/\")[0]\n",
    "        return f\"https://drive.google.com/uc?export=download&id={file_id}\"\n",
    "    return drive_link"
   ]
  },
  {
   "cell_type": "code",
   "execution_count": 65,
   "id": "24c5c247-6fa4-4821-8d91-42db6ae52a8a",
   "metadata": {},
   "outputs": [],
   "source": [
    "def download_and_resize_image(image_url, width, height):\n",
    "    direct_link = convert_to_direct_link(image_url)\n",
    "    response = requests.get(direct_link, stream=True)\n",
    "    response.raise_for_status()\n",
    "    image = Image.open(response.raw)\n",
    "    image = ImageOps.contain(image, (int(width), int(height)), Image.Resampling.LANCZOS)\n",
    "    return image"
   ]
  },
  {
   "cell_type": "code",
   "execution_count": null,
   "id": "4cb285f9",
   "metadata": {},
   "outputs": [],
   "source": [
    "def format_price(price):\n",
    "    \"\"\"Ajoute des espaces dans le prix pour lisibilité (ex: 1234 -> '1 234 €').\"\"\"\n",
    "    return f\"{price:,.0f}\".replace(\",\", \" \")"
   ]
  },
  {
   "cell_type": "code",
   "execution_count": 66,
   "id": "bf51f915-549e-4ed8-924b-fd888335af38",
   "metadata": {},
   "outputs": [],
   "source": [
    "def generate_catalog(data, output_folder, header_text=\"Product Catalog\"):\n",
    "    font_name = ImageFont.truetype(\"Skranji/Skranji-Bold.ttf\", 28)\n",
    "    font_price = ImageFont.truetype(\"arial-font/ARIBL0.ttf\", 36)\n",
    "    #font_header = ImageFont.truetype(\"arialbd.ttf\", 60)\n",
    "\n",
    "    page_number = 1\n",
    "    items_per_page = GRID_ROWS * GRID_COLS\n",
    "    os.makedirs(output_folder, exist_ok=True)\n",
    "\n",
    "    for page_start in range(0, len(data), items_per_page):\n",
    "        # Load the background image\n",
    "        background = Image.open(BACKGROUND_IMAGE_PATH).convert(\"RGBA\")\n",
    "        draw = ImageDraw.Draw(background)\n",
    "\n",
    "        # Draw grid content\n",
    "        for index, item in enumerate(data[page_start:page_start + items_per_page]):\n",
    "            row = index // GRID_COLS\n",
    "            col = index % GRID_COLS\n",
    "\n",
    "            # Top-left corner of the cell\n",
    "            cell_x = col * GRID_WIDTH\n",
    "            cell_y = HEADER_HEIGHT + row * GRID_HEIGHT\n",
    "\n",
    "            # Calculate center of the cell\n",
    "            cell_center_x = cell_x + GRID_WIDTH // 2\n",
    "            cell_center_y = cell_y + GRID_HEIGHT // 2\n",
    "\n",
    "            try:\n",
    "                # Resize and position the image\n",
    "                image = download_and_resize_image(item['Photo'], GRID_WIDTH - 2 * CELL_PADDING, GRID_HEIGHT - 150)\n",
    "                img_width, img_height = image.size\n",
    "                img_x = cell_center_x - img_width // 2\n",
    "                img_y = cell_center_y - img_height // 2 - 50  # Adjust upward for space for the price below\n",
    "                background.paste(image, (img_x, img_y), mask=image.convert(\"RGBA\"))\n",
    "\n",
    "                # Measure text sizes\n",
    "                name_text = item['Name'][:20]\n",
    "                price_text = f\"{format_price(item['Price'])} Ar\"\n",
    "                \n",
    "                name_bbox = font_name.getbbox(name_text)\n",
    "                name_width, name_height = name_bbox[2], name_bbox[3]\n",
    "\n",
    "                price_bbox = font_price.getbbox(price_text)\n",
    "                price_width, price_height = price_bbox[2], price_bbox[3]\n",
    "\n",
    "                # Draw product name (centered above the image)\n",
    "                name_x = cell_center_x - name_width // 2\n",
    "                name_y = img_y - name_height - 20  # Slight gap above the image\n",
    "                draw.text((name_x, name_y), name_text, font=font_name, fill=\"black\")\n",
    "\n",
    "                # Draw product price (centered below the image)\n",
    "                price_x = cell_center_x - price_width // 2\n",
    "                price_y = img_y + img_height + 10  # Slight gap below the image\n",
    "                draw.text((price_x, price_y), price_text, font=font_price, fill=\"red\")\n",
    "\n",
    "            except Exception as e:\n",
    "                print(f\"Error downloading or placing image for {item['Name']}: {e}\")\n",
    "\n",
    "        # Save the page as an image\n",
    "        output_path = os.path.join(output_folder, f\"page{page_number}.png\")\n",
    "        background.save(output_path)\n",
    "        print(f\"Page {page_number} saved as {output_path}\")\n",
    "        page_number += 1"
   ]
  },
  {
   "cell_type": "code",
   "execution_count": 67,
   "id": "9fe835d4-7a4a-4051-9061-0443c2aa42c0",
   "metadata": {},
   "outputs": [
    {
     "name": "stdout",
     "output_type": "stream",
     "text": [
      "Page 1 saved as catalog_pages/page1.png\n",
      "Page 2 saved as catalog_pages/page2.png\n"
     ]
    }
   ],
   "source": [
    "if __name__ == \"__main__\":\n",
    "    sheet_data = fetch_google_sheet_data(GOOGLE_SHEET_NAME)\n",
    "    output_folder = \"catalog_pages\"\n",
    "    generate_catalog(sheet_data, output_folder)\n",
    "\n",
    "#sheet_data: array of dict [{'Name': 'Congelateur 110L', 'Price': '2.000.000 Ar', 'Photo': '...'}, {……}]"
   ]
  },
  {
   "cell_type": "code",
   "execution_count": null,
   "id": "88dbb7e8-f967-45b2-9525-2acfab83f28c",
   "metadata": {},
   "outputs": [],
   "source": []
  }
 ],
 "metadata": {
  "kernelspec": {
   "display_name": "Python [conda env:base] *",
   "language": "python",
   "name": "conda-base-py"
  },
  "language_info": {
   "codemirror_mode": {
    "name": "ipython",
    "version": 3
   },
   "file_extension": ".py",
   "mimetype": "text/x-python",
   "name": "python",
   "nbconvert_exporter": "python",
   "pygments_lexer": "ipython3",
   "version": "3.12.7"
  }
 },
 "nbformat": 4,
 "nbformat_minor": 5
}
